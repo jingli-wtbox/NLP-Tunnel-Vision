{
 "cells": [
  {
   "cell_type": "code",
   "execution_count": 2,
   "metadata": {},
   "outputs": [
    {
     "data": {
      "text/plain": [
       "(Index(['newsdesk', 'section', 'subsection', 'material', 'headline', 'abstract',\n",
       "        'keywords', 'word_count', 'pub_date', 'n_comments', 'uniqueID'],\n",
       "       dtype='object'),\n",
       " (16787, 11))"
      ]
     },
     "execution_count": 2,
     "metadata": {},
     "output_type": "execute_result"
    }
   ],
   "source": [
    "import pandas as  pd\n",
    "\n",
    "\n",
    "df_raw_articles = pd.read_csv('../data/raw/nyt-articles-2020.csv')\n",
    "df_raw_articles.columns, df_raw_articles.shape"
   ]
  },
  {
   "cell_type": "code",
   "execution_count": 3,
   "metadata": {},
   "outputs": [
    {
     "name": "stderr",
     "output_type": "stream",
     "text": [
      "/tmp/ipykernel_42536/483778955.py:1: DtypeWarning: Columns (6) have mixed types. Specify dtype option on import or set low_memory=False.\n",
      "  df_raw_comments = pd.read_csv('../data/raw/nyt-comments-2020.csv')\n"
     ]
    },
    {
     "data": {
      "text/plain": [
       "(Index(['commentID', 'status', 'commentSequence', 'userID', 'userDisplayName',\n",
       "        'userLocation', 'userTitle', 'commentBody', 'createDate', 'updateDate',\n",
       "        'approveDate', 'recommendations', 'replyCount', 'editorsSelection',\n",
       "        'parentID', 'parentUserDisplayName', 'depth', 'commentType', 'trusted',\n",
       "        'recommendedFlag', 'permID', 'isAnonymous', 'articleID'],\n",
       "       dtype='object'),\n",
       " (4986461, 23))"
      ]
     },
     "execution_count": 3,
     "metadata": {},
     "output_type": "execute_result"
    }
   ],
   "source": [
    "df_raw_comments = pd.read_csv('../data/raw/nyt-comments-2020.csv')\n",
    "df_raw_comments.columns, df_raw_comments.shape"
   ]
  },
  {
   "cell_type": "code",
   "execution_count": 4,
   "metadata": {},
   "outputs": [
    {
     "data": {
      "text/plain": [
       "4986461"
      ]
     },
     "execution_count": 4,
     "metadata": {},
     "output_type": "execute_result"
    }
   ],
   "source": [
    "df_raw_comments.shape[0]"
   ]
  }
 ],
 "metadata": {
  "kernelspec": {
   "display_name": "conda-tunnel-vision",
   "language": "python",
   "name": "python3"
  },
  "language_info": {
   "codemirror_mode": {
    "name": "ipython",
    "version": 3
   },
   "file_extension": ".py",
   "mimetype": "text/x-python",
   "name": "python",
   "nbconvert_exporter": "python",
   "pygments_lexer": "ipython3",
   "version": "3.10.13"
  }
 },
 "nbformat": 4,
 "nbformat_minor": 2
}
